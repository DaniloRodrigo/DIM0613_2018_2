{
 "cells": [
  {
   "cell_type": "markdown",
   "metadata": {},
   "source": [
    "# PCA e LDA\n",
    "Na aula de hoje iremos ver o funcionamento e aplicações dos algoritmos de **Extração de Features** PCA e LDA.\n",
    "### Roteiro:\n",
    "1. Conceito de Extração de Features.\n",
    "2. Porquê ultilzar redutores de dimensionalidade.\n",
    "3. PCA\n",
    " * Funcionamento do PCA\n",
    " * Quando ultilizar\n",
    " * Vantagens e Desvantagens\n",
    "4. LDA\n",
    " 1. Funcionamento do LDA\n",
    " 2. Quando ultilizar\n",
    " 3. Vantagens e Desvantagens"
   ]
  },
  {
   "cell_type": "markdown",
   "metadata": {},
   "source": [
    "## PCA - Principal Component Analysis"
   ]
  },
  {
   "cell_type": "code",
   "execution_count": 1,
   "metadata": {},
   "outputs": [],
   "source": [
    "import numpy as np\n",
    "import matplotlib.pyplot as plt"
   ]
  }
 ],
 "metadata": {
  "kernelspec": {
   "display_name": "Python 3",
   "language": "python",
   "name": "python3"
  },
  "language_info": {
   "codemirror_mode": {
    "name": "ipython",
    "version": 3
   },
   "file_extension": ".py",
   "mimetype": "text/x-python",
   "name": "python",
   "nbconvert_exporter": "python",
   "pygments_lexer": "ipython3",
   "version": "3.6.5"
  }
 },
 "nbformat": 4,
 "nbformat_minor": 2
}
